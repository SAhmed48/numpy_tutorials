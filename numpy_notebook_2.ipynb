{
 "cells": [
  {
   "cell_type": "markdown",
   "metadata": {},
   "source": [
    "<div style='width: 100%; text-align: center;'> <h1> Numpy Tutorial 2 </h1> </div>\n",
    "<img alt=\"NumPy\" src=\"https://camo.githubusercontent.com/37d9964b95f38c96ed2cce75182f7ebda4b90f64/68747470733a2f2f676863646e2e7261776769742e6f72672f6e756d70792f6e756d70792f6d61737465722f6272616e64696e672f69636f6e732f7072696d6172792f6e756d70796c6f676f2e737667\" height=\"60\" data-canonical-src=\"https://ghcdn.rawgit.org/numpy/numpy/master/branding/icons/primary/numpylogo.svg\" style=\"max-width:100%;\">\n",
    "\n",
    "<p>NumPy is the fundamental package needed for scientific computing with Python.</p>\n",
    "<ul>\n",
    "    <li><strong>Website:</strong> <a href=\"https://www.numpy.org\" rel=\"nofollow\">https://www.numpy.org</a></li>\n",
    "    <li><strong>Documentation:</strong> <a href=\"https://numpy.org/doc\" rel=\"nofollow\">https://numpy.org/doc</a></li>\n",
    "</ul>\n",
    "<p>Benefits of Numpy:</p>\n",
    "<ul>\n",
    "    <li>a powerful N-dimensional array object</li>\n",
    "    <li>sophisticated (broadcasting) functions</li>\n",
    "    <li>tools for integrating C/C++ and Fortran code</li>\n",
    "    <li>useful linear algebra, Fourier transform, and random number capabilities</li>\n",
    "</ul>"
   ]
  },
  {
   "cell_type": "code",
   "execution_count": 2,
   "metadata": {
    "collapsed": true
   },
   "outputs": [],
   "source": [
    "import numpy as np"
   ]
  },
  {
   "cell_type": "code",
   "execution_count": 9,
   "metadata": {},
   "outputs": [
    {
     "data": {
      "text/plain": [
       "array([  1.        ,   1.49494949,   1.98989899,   2.48484848,\n",
       "         2.97979798,   3.47474747,   3.96969697,   4.46464646,\n",
       "         4.95959596,   5.45454545,   5.94949495,   6.44444444,\n",
       "         6.93939394,   7.43434343,   7.92929293,   8.42424242,\n",
       "         8.91919192,   9.41414141,   9.90909091,  10.4040404 ,\n",
       "        10.8989899 ,  11.39393939,  11.88888889,  12.38383838,\n",
       "        12.87878788,  13.37373737,  13.86868687,  14.36363636,\n",
       "        14.85858586,  15.35353535,  15.84848485,  16.34343434,\n",
       "        16.83838384,  17.33333333,  17.82828283,  18.32323232,\n",
       "        18.81818182,  19.31313131,  19.80808081,  20.3030303 ,\n",
       "        20.7979798 ,  21.29292929,  21.78787879,  22.28282828,\n",
       "        22.77777778,  23.27272727,  23.76767677,  24.26262626,\n",
       "        24.75757576,  25.25252525,  25.74747475,  26.24242424,\n",
       "        26.73737374,  27.23232323,  27.72727273,  28.22222222,\n",
       "        28.71717172,  29.21212121,  29.70707071,  30.2020202 ,\n",
       "        30.6969697 ,  31.19191919,  31.68686869,  32.18181818,\n",
       "        32.67676768,  33.17171717,  33.66666667,  34.16161616,\n",
       "        34.65656566,  35.15151515,  35.64646465,  36.14141414,\n",
       "        36.63636364,  37.13131313,  37.62626263,  38.12121212,\n",
       "        38.61616162,  39.11111111,  39.60606061,  40.1010101 ,\n",
       "        40.5959596 ,  41.09090909,  41.58585859,  42.08080808,\n",
       "        42.57575758,  43.07070707,  43.56565657,  44.06060606,\n",
       "        44.55555556,  45.05050505,  45.54545455,  46.04040404,\n",
       "        46.53535354,  47.03030303,  47.52525253,  48.02020202,\n",
       "        48.51515152,  49.01010101,  49.50505051,  50.        ])"
      ]
     },
     "execution_count": 9,
     "metadata": {},
     "output_type": "execute_result"
    }
   ],
   "source": [
    "# Split data equally into 100 parts and range is 1,50.\n",
    "# 100 values equally spaced between 1-50.\n",
    "\n",
    "arr_1 = np.linspace(1,50,100)\n",
    "arr_1"
   ]
  },
  {
   "cell_type": "code",
   "execution_count": 10,
   "metadata": {},
   "outputs": [
    {
     "data": {
      "text/plain": [
       "8"
      ]
     },
     "execution_count": 10,
     "metadata": {},
     "output_type": "execute_result"
    }
   ],
   "source": [
    "# Check how much memory used by arr_1 in term of bytes. \n",
    "arr_1.itemsize"
   ]
  },
  {
   "cell_type": "code",
   "execution_count": 12,
   "metadata": {},
   "outputs": [
    {
     "data": {
      "text/plain": [
       "(18,)"
      ]
     },
     "execution_count": 12,
     "metadata": {},
     "output_type": "execute_result"
    }
   ],
   "source": [
    "np.arange(18).shape"
   ]
  },
  {
   "cell_type": "code",
   "execution_count": 15,
   "metadata": {},
   "outputs": [],
   "source": [
    "# Change shape. 2 matrix of 3 x 3\n",
    "reshape_arr = np.arange(18).reshape(2,3,3)"
   ]
  },
  {
   "cell_type": "code",
   "execution_count": 17,
   "metadata": {},
   "outputs": [
    {
     "data": {
      "text/plain": [
       "(2, 3, 3)"
      ]
     },
     "execution_count": 17,
     "metadata": {},
     "output_type": "execute_result"
    }
   ],
   "source": [
    "reshape_arr.shape"
   ]
  },
  {
   "cell_type": "code",
   "execution_count": 19,
   "metadata": {
    "collapsed": true
   },
   "outputs": [],
   "source": [
    "temp_arr = np.array([2,4,5,8,10,12,14,16,18])"
   ]
  },
  {
   "cell_type": "code",
   "execution_count": 25,
   "metadata": {},
   "outputs": [
    {
     "data": {
      "text/plain": [
       "array([ 5, 10, 14])"
      ]
     },
     "execution_count": 25,
     "metadata": {},
     "output_type": "execute_result"
    }
   ],
   "source": [
    "# print different index elements in array at once.\n",
    "temp_arr[[2,4,6]]"
   ]
  },
  {
   "cell_type": "code",
   "execution_count": 29,
   "metadata": {},
   "outputs": [
    {
     "data": {
      "text/plain": [
       "array([[1, 2, 3, 4],\n",
       "       [6, 7, 8, 9],\n",
       "       [3, 6, 0, 3]])"
      ]
     },
     "execution_count": 29,
     "metadata": {},
     "output_type": "execute_result"
    }
   ],
   "source": [
    "arr_2 = np.array([[1,2,3,4], [6,7,8,9], [3,6,0,3]])\n",
    "arr_2"
   ]
  },
  {
   "cell_type": "code",
   "execution_count": 36,
   "metadata": {},
   "outputs": [
    {
     "data": {
      "text/plain": [
       "4"
      ]
     },
     "execution_count": 36,
     "metadata": {},
     "output_type": "execute_result"
    }
   ],
   "source": [
    "# 2d array values retrieve\n",
    "arr_2[0,3]"
   ]
  },
  {
   "cell_type": "code",
   "execution_count": 38,
   "metadata": {},
   "outputs": [
    {
     "data": {
      "text/plain": [
       "array([[False, False,  True,  True],\n",
       "       [ True,  True,  True,  True],\n",
       "       [ True,  True, False,  True]], dtype=bool)"
      ]
     },
     "execution_count": 38,
     "metadata": {},
     "output_type": "execute_result"
    }
   ],
   "source": [
    "# Check values using operators.\n",
    "arr_2 > 2"
   ]
  },
  {
   "cell_type": "code",
   "execution_count": 43,
   "metadata": {},
   "outputs": [
    {
     "data": {
      "text/plain": [
       "array([1, 2, 3, 4, 6, 7, 8, 9, 3, 6, 3])"
      ]
     },
     "execution_count": 43,
     "metadata": {},
     "output_type": "execute_result"
    }
   ],
   "source": [
    "arr_2[(arr_2 > 2 & (arr_2 < 5))]"
   ]
  },
  {
   "cell_type": "code",
   "execution_count": 44,
   "metadata": {
    "collapsed": true
   },
   "outputs": [],
   "source": [
    "# It is just referencing not make copy.\n",
    "arr_reference = arr_2"
   ]
  },
  {
   "cell_type": "code",
   "execution_count": 45,
   "metadata": {
    "collapsed": true
   },
   "outputs": [],
   "source": [
    "# separate object by using copy.\n",
    "arr_copy = arr_2.copy()"
   ]
  },
  {
   "cell_type": "code",
   "execution_count": 48,
   "metadata": {},
   "outputs": [
    {
     "data": {
      "text/plain": [
       "False"
      ]
     },
     "execution_count": 48,
     "metadata": {},
     "output_type": "execute_result"
    }
   ],
   "source": [
    "# Check array sharing memory or not\n",
    "np.shares_memory(arr_2, arr_copy)"
   ]
  },
  {
   "cell_type": "code",
   "execution_count": 52,
   "metadata": {},
   "outputs": [
    {
     "data": {
      "text/plain": [
       "array([[1, 6, 3],\n",
       "       [2, 7, 6],\n",
       "       [3, 8, 0],\n",
       "       [4, 9, 3]])"
      ]
     },
     "execution_count": 52,
     "metadata": {},
     "output_type": "execute_result"
    }
   ],
   "source": [
    "# take transpose of arr_2\n",
    "arr_2.T"
   ]
  },
  {
   "cell_type": "code",
   "execution_count": 55,
   "metadata": {},
   "outputs": [
    {
     "data": {
      "text/plain": [
       "array([[ True,  True,  True,  True],\n",
       "       [ True,  True,  True,  True],\n",
       "       [ True,  True,  True,  True]], dtype=bool)"
      ]
     },
     "execution_count": 55,
     "metadata": {},
     "output_type": "execute_result"
    }
   ],
   "source": [
    "#Compare matrix element by element\n",
    "arr_2 == arr_copy"
   ]
  },
  {
   "cell_type": "code",
   "execution_count": 62,
   "metadata": {},
   "outputs": [
    {
     "data": {
      "text/plain": [
       "array([[1, 2, 3, 4, 1, 2, 3, 4],\n",
       "       [6, 7, 8, 9, 6, 7, 8, 9],\n",
       "       [3, 6, 0, 3, 3, 6, 0, 3]])"
      ]
     },
     "execution_count": 62,
     "metadata": {},
     "output_type": "execute_result"
    }
   ],
   "source": [
    "np.hstack((arr_2, arr_copy))"
   ]
  },
  {
   "cell_type": "code",
   "execution_count": 64,
   "metadata": {},
   "outputs": [
    {
     "data": {
      "text/plain": [
       "array([[ 0.84147098,  0.90929743,  0.14112001, -0.7568025 ],\n",
       "       [-0.2794155 ,  0.6569866 ,  0.98935825,  0.41211849],\n",
       "       [ 0.14112001, -0.2794155 ,  0.        ,  0.14112001]])"
      ]
     },
     "execution_count": 64,
     "metadata": {},
     "output_type": "execute_result"
    }
   ],
   "source": [
    "np.sin(arr_2)"
   ]
  },
  {
   "cell_type": "code",
   "execution_count": 66,
   "metadata": {},
   "outputs": [
    {
     "data": {
      "text/plain": [
       "array([[ 0.54030231, -0.41614684, -0.9899925 , -0.65364362],\n",
       "       [ 0.96017029,  0.75390225, -0.14550003, -0.91113026],\n",
       "       [-0.9899925 ,  0.96017029,  1.        , -0.9899925 ]])"
      ]
     },
     "execution_count": 66,
     "metadata": {},
     "output_type": "execute_result"
    }
   ],
   "source": [
    "np.cos(arr_2)"
   ]
  },
  {
   "cell_type": "code",
   "execution_count": 68,
   "metadata": {},
   "outputs": [
    {
     "data": {
      "text/plain": [
       "2550.0"
      ]
     },
     "execution_count": 68,
     "metadata": {},
     "output_type": "execute_result"
    }
   ],
   "source": [
    "np.sum(arr_1)"
   ]
  },
  {
   "cell_type": "code",
   "execution_count": 70,
   "metadata": {},
   "outputs": [
    {
     "data": {
      "text/plain": [
       "3.5"
      ]
     },
     "execution_count": 70,
     "metadata": {},
     "output_type": "execute_result"
    }
   ],
   "source": [
    "np.median(arr_2)"
   ]
  },
  {
   "cell_type": "code",
   "execution_count": 72,
   "metadata": {},
   "outputs": [
    {
     "data": {
      "text/plain": [
       "14.287246791296807"
      ]
     },
     "execution_count": 72,
     "metadata": {},
     "output_type": "execute_result"
    }
   ],
   "source": [
    "arr_1.std()"
   ]
  },
  {
   "cell_type": "code",
   "execution_count": 76,
   "metadata": {},
   "outputs": [
    {
     "data": {
      "text/plain": [
       "-9.5161973539299405e-16"
      ]
     },
     "execution_count": 76,
     "metadata": {},
     "output_type": "execute_result"
    }
   ],
   "source": [
    "# Determinant of matrix and inverse\n",
    "\n",
    "det_arr = np.arange(1,10).reshape(3,3)\n",
    "np.linalg.det(det_arr)"
   ]
  },
  {
   "cell_type": "code",
   "execution_count": 78,
   "metadata": {},
   "outputs": [
    {
     "data": {
      "text/plain": [
       "array([[  3.15251974e+15,  -6.30503948e+15,   3.15251974e+15],\n",
       "       [ -6.30503948e+15,   1.26100790e+16,  -6.30503948e+15],\n",
       "       [  3.15251974e+15,  -6.30503948e+15,   3.15251974e+15]])"
      ]
     },
     "execution_count": 78,
     "metadata": {},
     "output_type": "execute_result"
    }
   ],
   "source": [
    "# Inverse of matrix\n",
    "np.linalg.inv(det_arr)"
   ]
  },
  {
   "cell_type": "code",
   "execution_count": 81,
   "metadata": {},
   "outputs": [
    {
     "data": {
      "text/plain": [
       "array([[1, 4, 7],\n",
       "       [2, 5, 8],\n",
       "       [3, 6, 9]])"
      ]
     },
     "execution_count": 81,
     "metadata": {},
     "output_type": "execute_result"
    }
   ],
   "source": [
    "matrix_transpose = det_arr.T\n",
    "matrix_transpose"
   ]
  },
  {
   "cell_type": "code",
   "execution_count": 84,
   "metadata": {},
   "outputs": [
    {
     "data": {
      "text/plain": [
       "array([[ 14,  32,  50],\n",
       "       [ 32,  77, 122],\n",
       "       [ 50, 122, 194]])"
      ]
     },
     "execution_count": 84,
     "metadata": {},
     "output_type": "execute_result"
    }
   ],
   "source": [
    "# Dot product\n",
    "np.dot(det_arr, matrix_transpose)"
   ]
  }
 ],
 "metadata": {
  "kernelspec": {
   "display_name": "Python 3",
   "language": "python",
   "name": "python3"
  },
  "language_info": {
   "codemirror_mode": {
    "name": "ipython",
    "version": 3
   },
   "file_extension": ".py",
   "mimetype": "text/x-python",
   "name": "python",
   "nbconvert_exporter": "python",
   "pygments_lexer": "ipython3",
   "version": "3.6.3"
  }
 },
 "nbformat": 4,
 "nbformat_minor": 2
}
